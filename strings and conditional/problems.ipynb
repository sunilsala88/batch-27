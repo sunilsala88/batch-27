{
 "cells": [
  {
   "cell_type": "code",
   "execution_count": 2,
   "metadata": {},
   "outputs": [
    {
     "name": "stdout",
     "output_type": "stream",
     "text": [
      "hello\n"
     ]
    }
   ],
   "source": [
    "print('hello')"
   ]
  },
  {
   "cell_type": "markdown",
   "metadata": {},
   "source": [
    "# problem 1"
   ]
  },
  {
   "cell_type": "code",
   "execution_count": 5,
   "metadata": {},
   "outputs": [
    {
     "name": "stdout",
     "output_type": "stream",
     "text": [
      "even\n"
     ]
    }
   ],
   "source": [
    "#odd or even\n",
    "number=12\n",
    "if number%2==0:\n",
    "    print('even')\n",
    "else:\n",
    "    print('odd')"
   ]
  },
  {
   "cell_type": "markdown",
   "metadata": {},
   "source": [
    "Description: Create a Python script for financial institutions to determine a customer's eligibility for a credit card. The script should ask for the customer's age, annual income, and whether they are employed. To be eligible, customers must be at least 18 years old, earn at least $20,000 annually, and be employed. The program outputs whether the customer is approved or denied for the credit card.\n"
   ]
  },
  {
   "cell_type": "code",
   "execution_count": null,
   "metadata": {},
   "outputs": [],
   "source": []
  },
  {
   "cell_type": "code",
   "execution_count": null,
   "metadata": {},
   "outputs": [],
   "source": []
  },
  {
   "cell_type": "markdown",
   "metadata": {},
   "source": [
    "# conditional problem 6"
   ]
  },
  {
   "cell_type": "code",
   "execution_count": 3,
   "metadata": {},
   "outputs": [
    {
     "name": "stdout",
     "output_type": "stream",
     "text": [
      "Loss :  -1000\n",
      "loss\n"
     ]
    }
   ],
   "source": [
    "buy_price=int(input('enter the buy price'))\n",
    "sell_price=int(input('enter the sell price'))\n",
    "quantity=int(input('enter the  quantity'))\n",
    "\n",
    "gain=(sell_price-buy_price)*quantity\n",
    "if gain>0:\n",
    "    print('Profilt : $',gain)\n",
    "    if gain>2000:\n",
    "        print('high ')\n",
    "    elif 1000<gain<2000:\n",
    "        print('moderate')\n",
    "    else:\n",
    "        print('low')\n",
    "\n",
    "elif gain<0:\n",
    "    print('Loss : ',gain)\n",
    "    print('loss')\n"
   ]
  }
 ],
 "metadata": {
  "kernelspec": {
   "display_name": "Python 3",
   "language": "python",
   "name": "python3"
  },
  "language_info": {
   "codemirror_mode": {
    "name": "ipython",
    "version": 3
   },
   "file_extension": ".py",
   "mimetype": "text/x-python",
   "name": "python",
   "nbconvert_exporter": "python",
   "pygments_lexer": "ipython3",
   "version": "3.12.2"
  }
 },
 "nbformat": 4,
 "nbformat_minor": 2
}
