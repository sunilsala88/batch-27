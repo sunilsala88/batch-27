{
  "cells": [
    {
      "cell_type": "code",
      "execution_count": 1,
      "metadata": {
        "id": "Q7nHX0p4khDD"
      },
      "outputs": [],
      "source": [
        "import pandas as pd"
      ]
    },
    {
      "cell_type": "code",
      "execution_count": 2,
      "metadata": {
        "id": "JZydJEoYkhDL",
        "outputId": "14fd70a4-f21e-43d3-c4d8-b36798cb5edd"
      },
      "outputs": [
        {
          "data": {
            "text/html": [
              "<div>\n",
              "<style scoped>\n",
              "    .dataframe tbody tr th:only-of-type {\n",
              "        vertical-align: middle;\n",
              "    }\n",
              "\n",
              "    .dataframe tbody tr th {\n",
              "        vertical-align: top;\n",
              "    }\n",
              "\n",
              "    .dataframe thead th {\n",
              "        text-align: right;\n",
              "    }\n",
              "</style>\n",
              "<table border=\"1\" class=\"dataframe\">\n",
              "  <thead>\n",
              "    <tr style=\"text-align: right;\">\n",
              "      <th></th>\n",
              "      <th>Company</th>\n",
              "      <th>Valuation</th>\n",
              "      <th>Date Joined</th>\n",
              "      <th>Industry</th>\n",
              "      <th>City</th>\n",
              "      <th>Country</th>\n",
              "      <th>Continent</th>\n",
              "      <th>Year Founded</th>\n",
              "      <th>Funding</th>\n",
              "    </tr>\n",
              "  </thead>\n",
              "  <tbody>\n",
              "    <tr>\n",
              "      <th>0</th>\n",
              "      <td>Bytedance</td>\n",
              "      <td>180</td>\n",
              "      <td>07-04-2017</td>\n",
              "      <td>Artificial intelligence</td>\n",
              "      <td>Beijing</td>\n",
              "      <td>China</td>\n",
              "      <td>Asia</td>\n",
              "      <td>2012</td>\n",
              "      <td>NaN</td>\n",
              "    </tr>\n",
              "    <tr>\n",
              "      <th>1</th>\n",
              "      <td>SpaceX</td>\n",
              "      <td>100</td>\n",
              "      <td>01-12-2012</td>\n",
              "      <td>Other</td>\n",
              "      <td>Hawthorne</td>\n",
              "      <td>United States</td>\n",
              "      <td>North America</td>\n",
              "      <td>2002</td>\n",
              "      <td>7.0</td>\n",
              "    </tr>\n",
              "    <tr>\n",
              "      <th>2</th>\n",
              "      <td>SHEIN</td>\n",
              "      <td>100</td>\n",
              "      <td>03-07-2018</td>\n",
              "      <td>E-commerce &amp; direct-to-consumer</td>\n",
              "      <td>Shenzhen</td>\n",
              "      <td>China</td>\n",
              "      <td>Asia</td>\n",
              "      <td>2008</td>\n",
              "      <td>2.0</td>\n",
              "    </tr>\n",
              "    <tr>\n",
              "      <th>3</th>\n",
              "      <td>Stripe</td>\n",
              "      <td>95</td>\n",
              "      <td>23-01-2014</td>\n",
              "      <td>Fintech</td>\n",
              "      <td>San Francisco</td>\n",
              "      <td>United States</td>\n",
              "      <td>North America</td>\n",
              "      <td>2010</td>\n",
              "      <td>2.0</td>\n",
              "    </tr>\n",
              "    <tr>\n",
              "      <th>4</th>\n",
              "      <td>Klarna</td>\n",
              "      <td>46</td>\n",
              "      <td>12-12-2011</td>\n",
              "      <td>Fintech</td>\n",
              "      <td>Stockholm</td>\n",
              "      <td>Sweden</td>\n",
              "      <td>Europe</td>\n",
              "      <td>2005</td>\n",
              "      <td>4.0</td>\n",
              "    </tr>\n",
              "    <tr>\n",
              "      <th>...</th>\n",
              "      <td>...</td>\n",
              "      <td>...</td>\n",
              "      <td>...</td>\n",
              "      <td>...</td>\n",
              "      <td>...</td>\n",
              "      <td>...</td>\n",
              "      <td>...</td>\n",
              "      <td>...</td>\n",
              "      <td>...</td>\n",
              "    </tr>\n",
              "    <tr>\n",
              "      <th>1069</th>\n",
              "      <td>Zhaogang</td>\n",
              "      <td>1</td>\n",
              "      <td>29-06-2017</td>\n",
              "      <td>E-commerce &amp; direct-to-consumer</td>\n",
              "      <td>Shanghai</td>\n",
              "      <td>China</td>\n",
              "      <td>Asia</td>\n",
              "      <td>2012</td>\n",
              "      <td>379.0</td>\n",
              "    </tr>\n",
              "    <tr>\n",
              "      <th>1070</th>\n",
              "      <td>Zhuan Zhuan</td>\n",
              "      <td>1</td>\n",
              "      <td>18-04-2017</td>\n",
              "      <td>E-commerce &amp; direct-to-consumer</td>\n",
              "      <td>Beijing</td>\n",
              "      <td>China</td>\n",
              "      <td>Asia</td>\n",
              "      <td>2015</td>\n",
              "      <td>990.0</td>\n",
              "    </tr>\n",
              "    <tr>\n",
              "      <th>1071</th>\n",
              "      <td>Zihaiguo</td>\n",
              "      <td>1</td>\n",
              "      <td>06-05-2021</td>\n",
              "      <td>Consumer &amp; retail</td>\n",
              "      <td>Chongqing</td>\n",
              "      <td>China</td>\n",
              "      <td>Asia</td>\n",
              "      <td>2018</td>\n",
              "      <td>80.0</td>\n",
              "    </tr>\n",
              "    <tr>\n",
              "      <th>1072</th>\n",
              "      <td>Zopa</td>\n",
              "      <td>1</td>\n",
              "      <td>19-10-2021</td>\n",
              "      <td>Fintech</td>\n",
              "      <td>London</td>\n",
              "      <td>United Kingdom</td>\n",
              "      <td>Europe</td>\n",
              "      <td>2005</td>\n",
              "      <td>792.0</td>\n",
              "    </tr>\n",
              "    <tr>\n",
              "      <th>1073</th>\n",
              "      <td>Zwift</td>\n",
              "      <td>1</td>\n",
              "      <td>16-09-2020</td>\n",
              "      <td>E-commerce &amp; direct-to-consumer</td>\n",
              "      <td>Long Beach</td>\n",
              "      <td>United States</td>\n",
              "      <td>North America</td>\n",
              "      <td>2014</td>\n",
              "      <td>620.0</td>\n",
              "    </tr>\n",
              "  </tbody>\n",
              "</table>\n",
              "<p>1074 rows × 9 columns</p>\n",
              "</div>"
            ],
            "text/plain": [
              "          Company  Valuation Date Joined                         Industry  \\\n",
              "0       Bytedance        180  07-04-2017          Artificial intelligence   \n",
              "1          SpaceX        100  01-12-2012                            Other   \n",
              "2           SHEIN        100  03-07-2018  E-commerce & direct-to-consumer   \n",
              "3          Stripe         95  23-01-2014                          Fintech   \n",
              "4          Klarna         46  12-12-2011                          Fintech   \n",
              "...           ...        ...         ...                              ...   \n",
              "1069     Zhaogang          1  29-06-2017  E-commerce & direct-to-consumer   \n",
              "1070  Zhuan Zhuan          1  18-04-2017  E-commerce & direct-to-consumer   \n",
              "1071     Zihaiguo          1  06-05-2021                Consumer & retail   \n",
              "1072         Zopa          1  19-10-2021                          Fintech   \n",
              "1073        Zwift          1  16-09-2020  E-commerce & direct-to-consumer   \n",
              "\n",
              "               City         Country      Continent  Year Founded  Funding  \n",
              "0           Beijing           China           Asia          2012      NaN  \n",
              "1         Hawthorne   United States  North America          2002      7.0  \n",
              "2          Shenzhen           China           Asia          2008      2.0  \n",
              "3     San Francisco   United States  North America          2010      2.0  \n",
              "4         Stockholm          Sweden         Europe          2005      4.0  \n",
              "...             ...             ...            ...           ...      ...  \n",
              "1069       Shanghai           China           Asia          2012    379.0  \n",
              "1070        Beijing           China           Asia          2015    990.0  \n",
              "1071      Chongqing           China           Asia          2018     80.0  \n",
              "1072         London  United Kingdom         Europe          2005    792.0  \n",
              "1073     Long Beach   United States  North America          2014    620.0  \n",
              "\n",
              "[1074 rows x 9 columns]"
            ]
          },
          "execution_count": 2,
          "metadata": {},
          "output_type": "execute_result"
        }
      ],
      "source": [
        "company = pd.read_csv('Unicorn_companies.csv')\n",
        "company"
      ]
    },
    {
      "cell_type": "code",
      "execution_count": 3,
      "metadata": {
        "id": "tzy-0VOtkhDR",
        "outputId": "5f0d4e0b-ec40-412a-c304-b3b5ab09b30b"
      },
      "outputs": [
        {
          "data": {
            "text/plain": [
              "Index(['Company', 'Valuation', 'Date Joined', 'Industry', 'City', 'Country',\n",
              "       'Continent', 'Year Founded', 'Funding'],\n",
              "      dtype='object')"
            ]
          },
          "execution_count": 3,
          "metadata": {},
          "output_type": "execute_result"
        }
      ],
      "source": [
        "company.columns"
      ]
    },
    {
      "cell_type": "code",
      "execution_count": 4,
      "metadata": {
        "id": "GCYP1U2JkhDS",
        "outputId": "07bc8496-aca9-4c41-95ca-de01abeaac0c"
      },
      "outputs": [
        {
          "data": {
            "text/plain": [
              "RangeIndex(start=0, stop=1074, step=1)"
            ]
          },
          "execution_count": 4,
          "metadata": {},
          "output_type": "execute_result"
        }
      ],
      "source": [
        "company.index"
      ]
    },
    {
      "cell_type": "code",
      "execution_count": 7,
      "metadata": {
        "id": "1xMojUe0khDT",
        "outputId": "16194336-671a-4228-9525-c5cdecf3a77e"
      },
      "outputs": [
        {
          "data": {
            "text/html": [
              "<div>\n",
              "<style scoped>\n",
              "    .dataframe tbody tr th:only-of-type {\n",
              "        vertical-align: middle;\n",
              "    }\n",
              "\n",
              "    .dataframe tbody tr th {\n",
              "        vertical-align: top;\n",
              "    }\n",
              "\n",
              "    .dataframe thead th {\n",
              "        text-align: right;\n",
              "    }\n",
              "</style>\n",
              "<table border=\"1\" class=\"dataframe\">\n",
              "  <thead>\n",
              "    <tr style=\"text-align: right;\">\n",
              "      <th></th>\n",
              "      <th>Valuation</th>\n",
              "      <th>Date Joined</th>\n",
              "      <th>Industry</th>\n",
              "      <th>City</th>\n",
              "      <th>Country</th>\n",
              "      <th>Continent</th>\n",
              "      <th>Year Founded</th>\n",
              "      <th>Funding</th>\n",
              "    </tr>\n",
              "    <tr>\n",
              "      <th>Company</th>\n",
              "      <th></th>\n",
              "      <th></th>\n",
              "      <th></th>\n",
              "      <th></th>\n",
              "      <th></th>\n",
              "      <th></th>\n",
              "      <th></th>\n",
              "      <th></th>\n",
              "    </tr>\n",
              "  </thead>\n",
              "  <tbody>\n",
              "    <tr>\n",
              "      <th>Bytedance</th>\n",
              "      <td>180</td>\n",
              "      <td>07-04-2017</td>\n",
              "      <td>Artificial intelligence</td>\n",
              "      <td>Beijing</td>\n",
              "      <td>China</td>\n",
              "      <td>Asia</td>\n",
              "      <td>2012</td>\n",
              "      <td>NaN</td>\n",
              "    </tr>\n",
              "    <tr>\n",
              "      <th>SpaceX</th>\n",
              "      <td>100</td>\n",
              "      <td>01-12-2012</td>\n",
              "      <td>Other</td>\n",
              "      <td>Hawthorne</td>\n",
              "      <td>United States</td>\n",
              "      <td>North America</td>\n",
              "      <td>2002</td>\n",
              "      <td>7.0</td>\n",
              "    </tr>\n",
              "    <tr>\n",
              "      <th>SHEIN</th>\n",
              "      <td>100</td>\n",
              "      <td>03-07-2018</td>\n",
              "      <td>E-commerce &amp; direct-to-consumer</td>\n",
              "      <td>Shenzhen</td>\n",
              "      <td>China</td>\n",
              "      <td>Asia</td>\n",
              "      <td>2008</td>\n",
              "      <td>2.0</td>\n",
              "    </tr>\n",
              "    <tr>\n",
              "      <th>Stripe</th>\n",
              "      <td>95</td>\n",
              "      <td>23-01-2014</td>\n",
              "      <td>Fintech</td>\n",
              "      <td>San Francisco</td>\n",
              "      <td>United States</td>\n",
              "      <td>North America</td>\n",
              "      <td>2010</td>\n",
              "      <td>2.0</td>\n",
              "    </tr>\n",
              "    <tr>\n",
              "      <th>Klarna</th>\n",
              "      <td>46</td>\n",
              "      <td>12-12-2011</td>\n",
              "      <td>Fintech</td>\n",
              "      <td>Stockholm</td>\n",
              "      <td>Sweden</td>\n",
              "      <td>Europe</td>\n",
              "      <td>2005</td>\n",
              "      <td>4.0</td>\n",
              "    </tr>\n",
              "    <tr>\n",
              "      <th>...</th>\n",
              "      <td>...</td>\n",
              "      <td>...</td>\n",
              "      <td>...</td>\n",
              "      <td>...</td>\n",
              "      <td>...</td>\n",
              "      <td>...</td>\n",
              "      <td>...</td>\n",
              "      <td>...</td>\n",
              "    </tr>\n",
              "    <tr>\n",
              "      <th>Zhaogang</th>\n",
              "      <td>1</td>\n",
              "      <td>29-06-2017</td>\n",
              "      <td>E-commerce &amp; direct-to-consumer</td>\n",
              "      <td>Shanghai</td>\n",
              "      <td>China</td>\n",
              "      <td>Asia</td>\n",
              "      <td>2012</td>\n",
              "      <td>379.0</td>\n",
              "    </tr>\n",
              "    <tr>\n",
              "      <th>Zhuan Zhuan</th>\n",
              "      <td>1</td>\n",
              "      <td>18-04-2017</td>\n",
              "      <td>E-commerce &amp; direct-to-consumer</td>\n",
              "      <td>Beijing</td>\n",
              "      <td>China</td>\n",
              "      <td>Asia</td>\n",
              "      <td>2015</td>\n",
              "      <td>990.0</td>\n",
              "    </tr>\n",
              "    <tr>\n",
              "      <th>Zihaiguo</th>\n",
              "      <td>1</td>\n",
              "      <td>06-05-2021</td>\n",
              "      <td>Consumer &amp; retail</td>\n",
              "      <td>Chongqing</td>\n",
              "      <td>China</td>\n",
              "      <td>Asia</td>\n",
              "      <td>2018</td>\n",
              "      <td>80.0</td>\n",
              "    </tr>\n",
              "    <tr>\n",
              "      <th>Zopa</th>\n",
              "      <td>1</td>\n",
              "      <td>19-10-2021</td>\n",
              "      <td>Fintech</td>\n",
              "      <td>London</td>\n",
              "      <td>United Kingdom</td>\n",
              "      <td>Europe</td>\n",
              "      <td>2005</td>\n",
              "      <td>792.0</td>\n",
              "    </tr>\n",
              "    <tr>\n",
              "      <th>Zwift</th>\n",
              "      <td>1</td>\n",
              "      <td>16-09-2020</td>\n",
              "      <td>E-commerce &amp; direct-to-consumer</td>\n",
              "      <td>Long Beach</td>\n",
              "      <td>United States</td>\n",
              "      <td>North America</td>\n",
              "      <td>2014</td>\n",
              "      <td>620.0</td>\n",
              "    </tr>\n",
              "  </tbody>\n",
              "</table>\n",
              "<p>1074 rows × 8 columns</p>\n",
              "</div>"
            ],
            "text/plain": [
              "             Valuation Date Joined                         Industry  \\\n",
              "Company                                                               \n",
              "Bytedance          180  07-04-2017          Artificial intelligence   \n",
              "SpaceX             100  01-12-2012                            Other   \n",
              "SHEIN              100  03-07-2018  E-commerce & direct-to-consumer   \n",
              "Stripe              95  23-01-2014                          Fintech   \n",
              "Klarna              46  12-12-2011                          Fintech   \n",
              "...                ...         ...                              ...   \n",
              "Zhaogang             1  29-06-2017  E-commerce & direct-to-consumer   \n",
              "Zhuan Zhuan          1  18-04-2017  E-commerce & direct-to-consumer   \n",
              "Zihaiguo             1  06-05-2021                Consumer & retail   \n",
              "Zopa                 1  19-10-2021                          Fintech   \n",
              "Zwift                1  16-09-2020  E-commerce & direct-to-consumer   \n",
              "\n",
              "                      City         Country      Continent  Year Founded  \\\n",
              "Company                                                                   \n",
              "Bytedance          Beijing           China           Asia          2012   \n",
              "SpaceX           Hawthorne   United States  North America          2002   \n",
              "SHEIN             Shenzhen           China           Asia          2008   \n",
              "Stripe       San Francisco   United States  North America          2010   \n",
              "Klarna           Stockholm          Sweden         Europe          2005   \n",
              "...                    ...             ...            ...           ...   \n",
              "Zhaogang          Shanghai           China           Asia          2012   \n",
              "Zhuan Zhuan        Beijing           China           Asia          2015   \n",
              "Zihaiguo         Chongqing           China           Asia          2018   \n",
              "Zopa                London  United Kingdom         Europe          2005   \n",
              "Zwift           Long Beach   United States  North America          2014   \n",
              "\n",
              "             Funding  \n",
              "Company               \n",
              "Bytedance        NaN  \n",
              "SpaceX           7.0  \n",
              "SHEIN            2.0  \n",
              "Stripe           2.0  \n",
              "Klarna           4.0  \n",
              "...              ...  \n",
              "Zhaogang       379.0  \n",
              "Zhuan Zhuan    990.0  \n",
              "Zihaiguo        80.0  \n",
              "Zopa           792.0  \n",
              "Zwift          620.0  \n",
              "\n",
              "[1074 rows x 8 columns]"
            ]
          },
          "execution_count": 7,
          "metadata": {},
          "output_type": "execute_result"
        }
      ],
      "source": [
        "company_ind = company.set_index(\"Company\") \n",
        "company_ind"
      ]
    },
    {
      "cell_type": "code",
      "execution_count": null,
      "metadata": {},
      "outputs": [],
      "source": [
        "company.set_index(\"City\") "
      ]
    },
    {
      "cell_type": "code",
      "execution_count": null,
      "metadata": {
        "id": "WOkxfZqwkhDV",
        "outputId": "42030c5b-498b-4454-beb0-3ab914c01205"
      },
      "outputs": [],
      "source": [
        "company_ind.reset_index()"
      ]
    },
    {
      "cell_type": "code",
      "execution_count": null,
      "metadata": {
        "id": "KUT1BhQWkhDW",
        "outputId": "ef1e29b3-8e91-4b27-b513-4a01c3202106"
      },
      "outputs": [],
      "source": [
        "company_ind.reset_index(drop=True)"
      ]
    },
    {
      "cell_type": "code",
      "execution_count": null,
      "metadata": {},
      "outputs": [],
      "source": [
        "company"
      ]
    },
    {
      "cell_type": "code",
      "execution_count": null,
      "metadata": {},
      "outputs": [],
      "source": [
        "company[['Continent']][1072]"
      ]
    },
    {
      "cell_type": "code",
      "execution_count": null,
      "metadata": {
        "id": "Y2OXUFL8khDX",
        "outputId": "cd5395c9-87be-4be1-a50e-e62288a9ed4e"
      },
      "outputs": [],
      "source": [
        "company[company[\"Company\"].isin([\"SpaceX\",\"SHEIN\"])]"
      ]
    },
    {
      "cell_type": "code",
      "execution_count": null,
      "metadata": {},
      "outputs": [],
      "source": [
        "company_ind"
      ]
    },
    {
      "cell_type": "code",
      "execution_count": null,
      "metadata": {
        "id": "TDgvWvf1khDY",
        "outputId": "448db8fc-2120-4f01-bca9-cc7ce60166f2"
      },
      "outputs": [],
      "source": [
        "company_ind.loc['Bytedance': \"Stripe\"]"
      ]
    },
    {
      "cell_type": "code",
      "execution_count": null,
      "metadata": {},
      "outputs": [],
      "source": [
        "company_ind.loc[\"SpaceX\"]"
      ]
    },
    {
      "cell_type": "code",
      "execution_count": null,
      "metadata": {
        "id": "DWz8fpV5khDZ",
        "outputId": "b125e7cf-2723-4c92-f638-b315e71b1606"
      },
      "outputs": [],
      "source": [
        "company_ind2 = company.set_index(\"Continent\")  \n",
        "company_ind2"
      ]
    },
    {
      "cell_type": "code",
      "execution_count": null,
      "metadata": {
        "id": "lsgc0alikhDa",
        "outputId": "490068e6-74f8-4ec9-f0f7-acac8e2da85e"
      },
      "outputs": [],
      "source": [
        "company_ind2.loc[\"North America\"]"
      ]
    },
    {
      "cell_type": "code",
      "execution_count": null,
      "metadata": {
        "id": "qW9e7qOPkhDe"
      },
      "outputs": [],
      "source": [
        "continents = ['Asia', 'North America', 'Europe', 'Oceania', 'South America','Africa']"
      ]
    },
    {
      "cell_type": "code",
      "execution_count": null,
      "metadata": {
        "id": "RnnzKEc8khDf",
        "outputId": "45939282-9c4f-469e-e185-8cc35bae1697"
      },
      "outputs": [],
      "source": [
        "print(continents[1:3])\n",
        "print(continents[:3])\n",
        "print(continents[:])"
      ]
    },
    {
      "cell_type": "code",
      "execution_count": null,
      "metadata": {
        "id": "cELlbCiJkhDg",
        "outputId": "815577f3-71dd-4999-b072-e3e426bf795a"
      },
      "outputs": [],
      "source": [
        "company_srt = company_ind.sort_index() \n",
        "company_srt"
      ]
    },
    {
      "cell_type": "code",
      "execution_count": null,
      "metadata": {},
      "outputs": [],
      "source": [
        "company_srt['1047 Games':'56PINGTAI']['Valuation':'City']\n",
        "company_srt['1047 Games':'56PINGTAI','Valuation':'City']"
      ]
    },
    {
      "cell_type": "code",
      "execution_count": null,
      "metadata": {
        "id": "AHjEqVDGkhDg",
        "outputId": "36075d17-9b08-4c6e-bd1f-095c9c29789e",
        "scrolled": true
      },
      "outputs": [],
      "source": [
        "# company_srt.loc[\"1047 Games\":'56PINGTAI\t']['Date Joined']\n",
        "company_srt.loc[\"1047 Games\":'56PINGTAI\t','Industry':'Continent']"
      ]
    },
    {
      "cell_type": "code",
      "execution_count": null,
      "metadata": {
        "id": "0Td7B2xVkhDj",
        "outputId": "277aa90e-8043-4bbf-9405-9fb2b2cbc0e3"
      },
      "outputs": [],
      "source": [
        "company_srt.iloc[1:4,5:]"
      ]
    }
  ],
  "metadata": {
    "colab": {
      "name": "pandas3.ipynb",
      "provenance": []
    },
    "kernelspec": {
      "display_name": "Python 3",
      "language": "python",
      "name": "python3"
    },
    "language_info": {
      "codemirror_mode": {
        "name": "ipython",
        "version": 3
      },
      "file_extension": ".py",
      "mimetype": "text/x-python",
      "name": "python",
      "nbconvert_exporter": "python",
      "pygments_lexer": "ipython3",
      "version": "3.12.2"
    }
  },
  "nbformat": 4,
  "nbformat_minor": 0
}
