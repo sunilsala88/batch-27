{
 "cells": [
  {
   "cell_type": "code",
   "execution_count": 1,
   "metadata": {},
   "outputs": [
    {
     "name": "stdout",
     "output_type": "stream",
     "text": [
      "Name       object\n",
      "Sector     object\n",
      "Price     float64\n",
      "EPS       float64\n",
      "dtype: object\n"
     ]
    }
   ],
   "source": [
    "import pandas as pd\n",
    "\n",
    "sp500 = pd.read_csv(\"sp500.csv\")\n",
    "\n",
    "print(sp500.dtypes)"
   ]
  },
  {
   "cell_type": "code",
   "execution_count": 2,
   "metadata": {},
   "outputs": [
    {
     "name": "stdout",
     "output_type": "stream",
     "text": [
      "As index:\n",
      "Index(['Name', 'Sector', 'Price', 'EPS'], dtype='object')\n",
      "As list:\n",
      "['Name', 'Sector', 'Price', 'EPS']\n"
     ]
    }
   ],
   "source": [
    "print(\"As index:\")\n",
    "print(sp500.columns)\n",
    "\n",
    "print(\"As list:\")\n",
    "print(list(sp500.columns))"
   ]
  },
  {
   "cell_type": "code",
   "execution_count": 3,
   "metadata": {},
   "outputs": [
    {
     "name": "stdout",
     "output_type": "stream",
     "text": [
      "Name       object\n",
      "Sector     object\n",
      "Price     float64\n",
      "EPS         int32\n",
      "dtype: object\n"
     ]
    }
   ],
   "source": [
    "sp500[\"EPS\"] = sp500[\"EPS\"].astype(\"int\")\n",
    "print(sp500.dtypes)"
   ]
  },
  {
   "cell_type": "code",
   "execution_count": 4,
   "metadata": {},
   "outputs": [
    {
     "name": "stdout",
     "output_type": "stream",
     "text": [
      "Name       object\n",
      "Sector     object\n",
      "Price     float64\n",
      "EPS       float64\n",
      "dtype: object\n"
     ]
    }
   ],
   "source": [
    "sp500 = sp500.astype({\n",
    "  \"EPS\": \"float\",\n",
    "  \"Price\": \"float\"\n",
    "})\n",
    "\n",
    "print(sp500.dtypes)"
   ]
  },
  {
   "cell_type": "code",
   "execution_count": 2,
   "metadata": {},
   "outputs": [
    {
     "name": "stdout",
     "output_type": "stream",
     "text": [
      "mean: \n",
      "150.50068627450983\n",
      "median: \n",
      "88.295\n",
      "mode: \n",
      "12.11\n",
      "minimum: \n",
      "12.11\n",
      "maximum: \n",
      "1762.23\n",
      "variance: \n",
      "57969.4528539798\n",
      "standard deviation: \n",
      "240.768463163222\n"
     ]
    }
   ],
   "source": [
    "print(\"mean: \")\n",
    "print(sp500[\"Price\"].mean())\n",
    "\n",
    "print(\"median: \")\n",
    "print(sp500[\"Price\"].median())\n",
    "\n",
    "print(\"mode: \")\n",
    "print(sp500[\"Price\"].mode()[0])\n",
    "\n",
    "print(\"minimum: \")\n",
    "print(sp500[\"Price\"].min())\n",
    "\n",
    "print(\"maximum: \")\n",
    "print(sp500[\"Price\"].max())\n",
    "\n",
    "print(\"variance: \")\n",
    "print(sp500[\"Price\"].var())\n",
    "\n",
    "print(\"standard deviation: \")\n",
    "print(sp500[\"Price\"].std())"
   ]
  },
  {
   "cell_type": "code",
   "execution_count": 8,
   "metadata": {},
   "outputs": [
    {
     "name": "stdout",
     "output_type": "stream",
     "text": [
      "3.0     17\n",
      "5.0     15\n",
      "2.0     15\n",
      "6.0     12\n",
      "4.0     10\n",
      "1.0      9\n",
      "9.0      4\n",
      "0.0      4\n",
      "7.0      3\n",
      "21.0     2\n",
      "12.0     2\n",
      "29.0     2\n",
      "15.0     1\n",
      "11.0     1\n",
      "10.0     1\n",
      "19.0     1\n",
      "13.0     1\n",
      "8.0      1\n",
      "74.0     1\n",
      "Name: EPS, dtype: int64\n"
     ]
    }
   ],
   "source": [
    "print(sp500[\"EPS\"].value_counts())"
   ]
  },
  {
   "cell_type": "code",
   "execution_count": 12,
   "metadata": {},
   "outputs": [
    {
     "data": {
      "text/plain": [
       "North America    589\n",
       "Asia             310\n",
       "Europe           143\n",
       "South America     21\n",
       "Oceania            8\n",
       "Africa             3\n",
       "Name: Continent, dtype: int64"
      ]
     },
     "execution_count": 12,
     "metadata": {},
     "output_type": "execute_result"
    }
   ],
   "source": [
    "df=pd.read_csv(\"Unicorn_Companies.csv\")\n",
    "df.Continent.value_counts()"
   ]
  }
 ],
 "metadata": {
  "kernelspec": {
   "display_name": "Python 3",
   "language": "python",
   "name": "python3"
  },
  "language_info": {
   "codemirror_mode": {
    "name": "ipython",
    "version": 3
   },
   "file_extension": ".py",
   "mimetype": "text/x-python",
   "name": "python",
   "nbconvert_exporter": "python",
   "pygments_lexer": "ipython3",
   "version": "3.12.2"
  },
  "orig_nbformat": 4
 },
 "nbformat": 4,
 "nbformat_minor": 2
}
