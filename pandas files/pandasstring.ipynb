{
 "cells": [
  {
   "cell_type": "code",
   "execution_count": 1,
   "metadata": {},
   "outputs": [
    {
     "data": {
      "text/html": [
       "<div>\n",
       "<style scoped>\n",
       "    .dataframe tbody tr th:only-of-type {\n",
       "        vertical-align: middle;\n",
       "    }\n",
       "\n",
       "    .dataframe tbody tr th {\n",
       "        vertical-align: top;\n",
       "    }\n",
       "\n",
       "    .dataframe thead th {\n",
       "        text-align: right;\n",
       "    }\n",
       "</style>\n",
       "<table border=\"1\" class=\"dataframe\">\n",
       "  <thead>\n",
       "    <tr style=\"text-align: right;\">\n",
       "      <th></th>\n",
       "      <th>Name</th>\n",
       "      <th>Sector</th>\n",
       "      <th>Price</th>\n",
       "      <th>EPS</th>\n",
       "    </tr>\n",
       "  </thead>\n",
       "  <tbody>\n",
       "    <tr>\n",
       "      <th>0</th>\n",
       "      <td>Apple Inc</td>\n",
       "      <td>Information Technology</td>\n",
       "      <td>170.12</td>\n",
       "      <td>9.20</td>\n",
       "    </tr>\n",
       "    <tr>\n",
       "      <th>1</th>\n",
       "      <td>Abbvie Inc</td>\n",
       "      <td>Health Care</td>\n",
       "      <td>93.29</td>\n",
       "      <td>5.31</td>\n",
       "    </tr>\n",
       "    <tr>\n",
       "      <th>2</th>\n",
       "      <td>Abbott Laboratories</td>\n",
       "      <td>Health Care</td>\n",
       "      <td>55.28</td>\n",
       "      <td>2.41</td>\n",
       "    </tr>\n",
       "    <tr>\n",
       "      <th>3</th>\n",
       "      <td>Accenture Plc</td>\n",
       "      <td>Information Technology</td>\n",
       "      <td>145.30</td>\n",
       "      <td>5.91</td>\n",
       "    </tr>\n",
       "    <tr>\n",
       "      <th>4</th>\n",
       "      <td>Allergan Plc</td>\n",
       "      <td>Health Care</td>\n",
       "      <td>171.81</td>\n",
       "      <td>15.42</td>\n",
       "    </tr>\n",
       "    <tr>\n",
       "      <th>...</th>\n",
       "      <td>...</td>\n",
       "      <td>...</td>\n",
       "      <td>...</td>\n",
       "      <td>...</td>\n",
       "    </tr>\n",
       "    <tr>\n",
       "      <th>97</th>\n",
       "      <td>Verizon Communications Inc</td>\n",
       "      <td>Telecommunications</td>\n",
       "      <td>45.85</td>\n",
       "      <td>3.75</td>\n",
       "    </tr>\n",
       "    <tr>\n",
       "      <th>98</th>\n",
       "      <td>Walgreens Boots Alliance</td>\n",
       "      <td>Consumer Staples</td>\n",
       "      <td>70.25</td>\n",
       "      <td>5.10</td>\n",
       "    </tr>\n",
       "    <tr>\n",
       "      <th>99</th>\n",
       "      <td>Wells Fargo &amp; Company</td>\n",
       "      <td>Financials</td>\n",
       "      <td>54.02</td>\n",
       "      <td>4.14</td>\n",
       "    </tr>\n",
       "    <tr>\n",
       "      <th>100</th>\n",
       "      <td>Wal-Mart Stores</td>\n",
       "      <td>Consumer Staples</td>\n",
       "      <td>96.08</td>\n",
       "      <td>4.36</td>\n",
       "    </tr>\n",
       "    <tr>\n",
       "      <th>101</th>\n",
       "      <td>Exxon Mobil Corp</td>\n",
       "      <td>Energy</td>\n",
       "      <td>80.31</td>\n",
       "      <td>3.56</td>\n",
       "    </tr>\n",
       "  </tbody>\n",
       "</table>\n",
       "<p>102 rows × 4 columns</p>\n",
       "</div>"
      ],
      "text/plain": [
       "                           Name                  Sector   Price    EPS\n",
       "0                     Apple Inc  Information Technology  170.12   9.20\n",
       "1                    Abbvie Inc             Health Care   93.29   5.31\n",
       "2           Abbott Laboratories             Health Care   55.28   2.41\n",
       "3                 Accenture Plc  Information Technology  145.30   5.91\n",
       "4                  Allergan Plc             Health Care  171.81  15.42\n",
       "..                          ...                     ...     ...    ...\n",
       "97   Verizon Communications Inc      Telecommunications   45.85   3.75\n",
       "98     Walgreens Boots Alliance        Consumer Staples   70.25   5.10\n",
       "99        Wells Fargo & Company              Financials   54.02   4.14\n",
       "100             Wal-Mart Stores        Consumer Staples   96.08   4.36\n",
       "101            Exxon Mobil Corp                  Energy   80.31   3.56\n",
       "\n",
       "[102 rows x 4 columns]"
      ]
     },
     "execution_count": 1,
     "metadata": {},
     "output_type": "execute_result"
    }
   ],
   "source": [
    "import pandas as pd\n",
    "\n",
    "sp500 = pd.read_csv(\"sp500.csv\")\n",
    "sp500"
   ]
  },
  {
   "cell_type": "code",
   "execution_count": 2,
   "metadata": {},
   "outputs": [],
   "source": [
    "sp500['name1']=sp500[\"Name\"].str[:]"
   ]
  },
  {
   "cell_type": "code",
   "execution_count": 3,
   "metadata": {},
   "outputs": [
    {
     "data": {
      "text/html": [
       "<div>\n",
       "<style scoped>\n",
       "    .dataframe tbody tr th:only-of-type {\n",
       "        vertical-align: middle;\n",
       "    }\n",
       "\n",
       "    .dataframe tbody tr th {\n",
       "        vertical-align: top;\n",
       "    }\n",
       "\n",
       "    .dataframe thead th {\n",
       "        text-align: right;\n",
       "    }\n",
       "</style>\n",
       "<table border=\"1\" class=\"dataframe\">\n",
       "  <thead>\n",
       "    <tr style=\"text-align: right;\">\n",
       "      <th></th>\n",
       "      <th>Name</th>\n",
       "      <th>Sector</th>\n",
       "      <th>Price</th>\n",
       "      <th>EPS</th>\n",
       "      <th>name1</th>\n",
       "    </tr>\n",
       "  </thead>\n",
       "  <tbody>\n",
       "    <tr>\n",
       "      <th>0</th>\n",
       "      <td>Apple Inc</td>\n",
       "      <td>Information Technology</td>\n",
       "      <td>170.12</td>\n",
       "      <td>9.20</td>\n",
       "      <td>Apple Inc</td>\n",
       "    </tr>\n",
       "    <tr>\n",
       "      <th>1</th>\n",
       "      <td>Abbvie Inc</td>\n",
       "      <td>Health Care</td>\n",
       "      <td>93.29</td>\n",
       "      <td>5.31</td>\n",
       "      <td>Abbvie Inc</td>\n",
       "    </tr>\n",
       "    <tr>\n",
       "      <th>2</th>\n",
       "      <td>Abbott Laboratories</td>\n",
       "      <td>Health Care</td>\n",
       "      <td>55.28</td>\n",
       "      <td>2.41</td>\n",
       "      <td>Abbott Laboratories</td>\n",
       "    </tr>\n",
       "    <tr>\n",
       "      <th>3</th>\n",
       "      <td>Accenture Plc</td>\n",
       "      <td>Information Technology</td>\n",
       "      <td>145.30</td>\n",
       "      <td>5.91</td>\n",
       "      <td>Accenture Plc</td>\n",
       "    </tr>\n",
       "    <tr>\n",
       "      <th>4</th>\n",
       "      <td>Allergan Plc</td>\n",
       "      <td>Health Care</td>\n",
       "      <td>171.81</td>\n",
       "      <td>15.42</td>\n",
       "      <td>Allergan Plc</td>\n",
       "    </tr>\n",
       "    <tr>\n",
       "      <th>...</th>\n",
       "      <td>...</td>\n",
       "      <td>...</td>\n",
       "      <td>...</td>\n",
       "      <td>...</td>\n",
       "      <td>...</td>\n",
       "    </tr>\n",
       "    <tr>\n",
       "      <th>97</th>\n",
       "      <td>Verizon Communications Inc</td>\n",
       "      <td>Telecommunications</td>\n",
       "      <td>45.85</td>\n",
       "      <td>3.75</td>\n",
       "      <td>Verizon Communications Inc</td>\n",
       "    </tr>\n",
       "    <tr>\n",
       "      <th>98</th>\n",
       "      <td>Walgreens Boots Alliance</td>\n",
       "      <td>Consumer Staples</td>\n",
       "      <td>70.25</td>\n",
       "      <td>5.10</td>\n",
       "      <td>Walgreens Boots Alliance</td>\n",
       "    </tr>\n",
       "    <tr>\n",
       "      <th>99</th>\n",
       "      <td>Wells Fargo &amp; Company</td>\n",
       "      <td>Financials</td>\n",
       "      <td>54.02</td>\n",
       "      <td>4.14</td>\n",
       "      <td>Wells Fargo &amp; Company</td>\n",
       "    </tr>\n",
       "    <tr>\n",
       "      <th>100</th>\n",
       "      <td>Wal-Mart Stores</td>\n",
       "      <td>Consumer Staples</td>\n",
       "      <td>96.08</td>\n",
       "      <td>4.36</td>\n",
       "      <td>Wal-Mart Stores</td>\n",
       "    </tr>\n",
       "    <tr>\n",
       "      <th>101</th>\n",
       "      <td>Exxon Mobil Corp</td>\n",
       "      <td>Energy</td>\n",
       "      <td>80.31</td>\n",
       "      <td>3.56</td>\n",
       "      <td>Exxon Mobil Corp</td>\n",
       "    </tr>\n",
       "  </tbody>\n",
       "</table>\n",
       "<p>102 rows × 5 columns</p>\n",
       "</div>"
      ],
      "text/plain": [
       "                           Name                  Sector   Price    EPS  \\\n",
       "0                     Apple Inc  Information Technology  170.12   9.20   \n",
       "1                    Abbvie Inc             Health Care   93.29   5.31   \n",
       "2           Abbott Laboratories             Health Care   55.28   2.41   \n",
       "3                 Accenture Plc  Information Technology  145.30   5.91   \n",
       "4                  Allergan Plc             Health Care  171.81  15.42   \n",
       "..                          ...                     ...     ...    ...   \n",
       "97   Verizon Communications Inc      Telecommunications   45.85   3.75   \n",
       "98     Walgreens Boots Alliance        Consumer Staples   70.25   5.10   \n",
       "99        Wells Fargo & Company              Financials   54.02   4.14   \n",
       "100             Wal-Mart Stores        Consumer Staples   96.08   4.36   \n",
       "101            Exxon Mobil Corp                  Energy   80.31   3.56   \n",
       "\n",
       "                          name1  \n",
       "0                     Apple Inc  \n",
       "1                    Abbvie Inc  \n",
       "2           Abbott Laboratories  \n",
       "3                 Accenture Plc  \n",
       "4                  Allergan Plc  \n",
       "..                          ...  \n",
       "97   Verizon Communications Inc  \n",
       "98     Walgreens Boots Alliance  \n",
       "99        Wells Fargo & Company  \n",
       "100             Wal-Mart Stores  \n",
       "101            Exxon Mobil Corp  \n",
       "\n",
       "[102 rows x 5 columns]"
      ]
     },
     "execution_count": 3,
     "metadata": {},
     "output_type": "execute_result"
    }
   ],
   "source": [
    "sp500"
   ]
  },
  {
   "cell_type": "code",
   "execution_count": 4,
   "metadata": {},
   "outputs": [
    {
     "data": {
      "text/plain": [
       "0      App\n",
       "1      Abb\n",
       "2      Abb\n",
       "3      Acc\n",
       "4      All\n",
       "      ... \n",
       "97     Ver\n",
       "98     Wal\n",
       "99     Wel\n",
       "100    Wal\n",
       "101    Exx\n",
       "Name: Name, Length: 102, dtype: object"
      ]
     },
     "execution_count": 4,
     "metadata": {},
     "output_type": "execute_result"
    }
   ],
   "source": [
    "sp500[\"Name\"].str[0:3]"
   ]
  },
  {
   "cell_type": "code",
   "execution_count": 5,
   "metadata": {},
   "outputs": [
    {
     "data": {
      "text/plain": [
       "['sunil', 'uchia']"
      ]
     },
     "execution_count": 5,
     "metadata": {},
     "output_type": "execute_result"
    }
   ],
   "source": [
    "a='sunil uchia'.split(' ')\n",
    "a"
   ]
  },
  {
   "cell_type": "code",
   "execution_count": 6,
   "metadata": {},
   "outputs": [
    {
     "name": "stdout",
     "output_type": "stream",
     "text": [
      "0                        [Apple, Inc]\n",
      "1                       [Abbvie, Inc]\n",
      "2              [Abbott, Laboratories]\n",
      "3                    [Accenture, Plc]\n",
      "4                     [Allergan, Plc]\n",
      "                    ...              \n",
      "97     [Verizon, Communications, Inc]\n",
      "98       [Walgreens, Boots, Alliance]\n",
      "99         [Wells, Fargo, &, Company]\n",
      "100                [Wal-Mart, Stores]\n",
      "101              [Exxon, Mobil, Corp]\n",
      "Name: Name, Length: 102, dtype: object\n"
     ]
    }
   ],
   "source": [
    "print(sp500[\"Name\"].str.split(\" \"))"
   ]
  },
  {
   "cell_type": "code",
   "execution_count": 7,
   "metadata": {},
   "outputs": [
    {
     "name": "stdout",
     "output_type": "stream",
     "text": [
      "                           Name       last_name\n",
      "0                     Apple Inc             Inc\n",
      "1                    Abbvie Inc             Inc\n",
      "2           Abbott Laboratories    Laboratories\n",
      "3                 Accenture Plc             Plc\n",
      "4                  Allergan Plc             Plc\n",
      "..                          ...             ...\n",
      "97   Verizon Communications Inc  Communications\n",
      "98     Walgreens Boots Alliance           Boots\n",
      "99        Wells Fargo & Company           Fargo\n",
      "100             Wal-Mart Stores          Stores\n",
      "101            Exxon Mobil Corp           Mobil\n",
      "\n",
      "[102 rows x 2 columns]\n"
     ]
    }
   ],
   "source": [
    "sp500[\"last_name\"] = sp500[\"Name\"].str.split(\" \", expand=True)[1]\n",
    "\n",
    "print(sp500[[\"Name\",\"last_name\"]])"
   ]
  },
  {
   "cell_type": "code",
   "execution_count": 8,
   "metadata": {},
   "outputs": [
    {
     "data": {
      "text/plain": [
       "0                       Apple-Inc\n",
       "1                      Abbvie-Inc\n",
       "2             Abbott-Laboratories\n",
       "3                   Accenture-Plc\n",
       "4                    Allergan-Plc\n",
       "                  ...            \n",
       "97     Verizon-Communications-Inc\n",
       "98       Walgreens-Boots-Alliance\n",
       "99          Wells-Fargo-&-Company\n",
       "100               Wal-Mart-Stores\n",
       "101              Exxon-Mobil-Corp\n",
       "Name: Name, Length: 102, dtype: object"
      ]
     },
     "execution_count": 8,
     "metadata": {},
     "output_type": "execute_result"
    }
   ],
   "source": [
    "sp500['Name'].str.replace(' ','-')"
   ]
  },
  {
   "cell_type": "code",
   "execution_count": 9,
   "metadata": {},
   "outputs": [
    {
     "name": "stdout",
     "output_type": "stream",
     "text": [
      "0                   Apple Inc - Information Technology\n",
      "1                             Abbvie Inc - Health Care\n",
      "2                    Abbott Laboratories - Health Care\n",
      "3               Accenture Plc - Information Technology\n",
      "4                           Allergan Plc - Health Care\n",
      "                            ...                       \n",
      "97     Verizon Communications Inc - Telecommunications\n",
      "98         Walgreens Boots Alliance - Consumer Staples\n",
      "99                  Wells Fargo & Company - Financials\n",
      "100                 Wal-Mart Stores - Consumer Staples\n",
      "101                          Exxon Mobil Corp - Energy\n",
      "Length: 102, dtype: object\n"
     ]
    }
   ],
   "source": [
    "print(sp500[\"Name\"] + \" - \" + sp500[\"Sector\"])"
   ]
  },
  {
   "cell_type": "code",
   "execution_count": 10,
   "metadata": {},
   "outputs": [
    {
     "name": "stdout",
     "output_type": "stream",
     "text": [
      "                           Name                  name_lower\n",
      "0                     Apple Inc                   apple inc\n",
      "1                    Abbvie Inc                  abbvie inc\n",
      "2           Abbott Laboratories         abbott laboratories\n",
      "3                 Accenture Plc               accenture plc\n",
      "4                  Allergan Plc                allergan plc\n",
      "..                          ...                         ...\n",
      "97   Verizon Communications Inc  verizon communications inc\n",
      "98     Walgreens Boots Alliance    walgreens boots alliance\n",
      "99        Wells Fargo & Company       wells fargo & company\n",
      "100             Wal-Mart Stores             wal-mart stores\n",
      "101            Exxon Mobil Corp            exxon mobil corp\n",
      "\n",
      "[102 rows x 2 columns]\n"
     ]
    }
   ],
   "source": [
    "sp500[\"name_lower\"] = sp500[\"Name\"].str.lower()\n",
    "\n",
    "print(sp500[[\"Name\",\"name_lower\"]])"
   ]
  },
  {
   "cell_type": "code",
   "execution_count": 11,
   "metadata": {},
   "outputs": [
    {
     "name": "stdout",
     "output_type": "stream",
     "text": [
      "0      Information technology\n",
      "1                 Health care\n",
      "2                 Health care\n",
      "3      Information technology\n",
      "4                 Health care\n",
      "                ...          \n",
      "97         Telecommunications\n",
      "98           Consumer staples\n",
      "99                 Financials\n",
      "100          Consumer staples\n",
      "101                    Energy\n",
      "Name: Sector, Length: 102, dtype: object\n"
     ]
    }
   ],
   "source": [
    "print(sp500[\"Sector\"].str.capitalize())"
   ]
  },
  {
   "cell_type": "code",
   "execution_count": 12,
   "metadata": {},
   "outputs": [
    {
     "name": "stdout",
     "output_type": "stream",
     "text": [
      "INFORMATION TECHNOLOGY\n"
     ]
    }
   ],
   "source": [
    "print(sp500[\"Sector\"][0].upper())"
   ]
  },
  {
   "cell_type": "code",
   "execution_count": 13,
   "metadata": {},
   "outputs": [
    {
     "name": "stdout",
     "output_type": "stream",
     "text": [
      "0                       Apple-Inc\n",
      "1                      Abbvie-Inc\n",
      "2             Abbott-Laboratories\n",
      "3                   Accenture-Plc\n",
      "4                    Allergan-Plc\n",
      "                  ...            \n",
      "97     Verizon-Communications-Inc\n",
      "98       Walgreens-Boots-Alliance\n",
      "99          Wells-Fargo-&-Company\n",
      "100               Wal-Mart-Stores\n",
      "101              Exxon-Mobil-Corp\n",
      "Name: Name, Length: 102, dtype: object\n"
     ]
    }
   ],
   "source": [
    "print(sp500[\"Name\"].str.replace(\" \", \"-\"))"
   ]
  },
  {
   "cell_type": "code",
   "execution_count": 14,
   "metadata": {},
   "outputs": [
    {
     "name": "stdout",
     "output_type": "stream",
     "text": [
      "0      llp\n",
      "1      llp\n",
      "2      ies\n",
      "3      pvt\n",
      "4      pvt\n",
      "      ... \n",
      "97     llp\n",
      "98     nce\n",
      "99     any\n",
      "100    res\n",
      "101    orp\n",
      "Name: company, Length: 102, dtype: object\n"
     ]
    }
   ],
   "source": [
    "sp500[\"company\"] = sp500[\"Name\"].str[-3:]\n",
    "\n",
    "# Replace state abbreviations with actual state names\n",
    "sp500[\"company\"].replace(\n",
    "    {\"Inc\": \"llp\", \"Plc\": \"pvt\"},\n",
    "    inplace = True\n",
    ")\n",
    "\n",
    "print(sp500[\"company\"])"
   ]
  }
 ],
 "metadata": {
  "kernelspec": {
   "display_name": "Python 3.10.0 64-bit",
   "language": "python",
   "name": "python3"
  },
  "language_info": {
   "codemirror_mode": {
    "name": "ipython",
    "version": 3
   },
   "file_extension": ".py",
   "mimetype": "text/x-python",
   "name": "python",
   "nbconvert_exporter": "python",
   "pygments_lexer": "ipython3",
   "version": "3.10.0"
  },
  "orig_nbformat": 4,
  "vscode": {
   "interpreter": {
    "hash": "478a92dbe663cce7c3fa41c61c54289e8c18324b2087979ba9b3d34363863902"
   }
  }
 },
 "nbformat": 4,
 "nbformat_minor": 2
}
