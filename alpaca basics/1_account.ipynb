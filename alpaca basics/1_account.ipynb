{
 "cells": [
  {
   "cell_type": "code",
   "execution_count": 1,
   "metadata": {},
   "outputs": [
    {
     "data": {
      "text/plain": [
       "{   'account_blocked': False,\n",
       "    'account_number': 'PA32II6CTZQA',\n",
       "    'accrued_fees': '0',\n",
       "    'buying_power': '1978911.12',\n",
       "    'cash': '989928.28',\n",
       "    'created_at': datetime.datetime(2024, 8, 24, 9, 13, 29, 133143, tzinfo=TzInfo(UTC)),\n",
       "    'crypto_status': <AccountStatus.ACTIVE: 'ACTIVE'>,\n",
       "    'currency': 'USD',\n",
       "    'daytrade_count': 0,\n",
       "    'daytrading_buying_power': '0',\n",
       "    'equity': '999566.69',\n",
       "    'id': UUID('28959f70-ced0-4150-a908-c1d2ef1a475a'),\n",
       "    'initial_margin': '788.59',\n",
       "    'last_equity': '999837.0245525',\n",
       "    'last_maintenance_margin': '99.48',\n",
       "    'long_market_value': '9638.41',\n",
       "    'maintenance_margin': '94.76',\n",
       "    'multiplier': '2',\n",
       "    'non_marginable_buying_power': '989455.56',\n",
       "    'options_approved_level': 2,\n",
       "    'options_buying_power': '989341.57',\n",
       "    'options_trading_level': 2,\n",
       "    'pattern_day_trader': False,\n",
       "    'pending_transfer_in': None,\n",
       "    'pending_transfer_out': None,\n",
       "    'portfolio_value': '999566.69',\n",
       "    'regt_buying_power': '1978911.12',\n",
       "    'short_market_value': '0',\n",
       "    'shorting_enabled': True,\n",
       "    'sma': '996622.91',\n",
       "    'status': <AccountStatus.ACTIVE: 'ACTIVE'>,\n",
       "    'trade_suspended_by_user': False,\n",
       "    'trading_blocked': False,\n",
       "    'transfers_blocked': False}"
      ]
     },
     "execution_count": 1,
     "metadata": {},
     "output_type": "execute_result"
    }
   ],
   "source": [
    "\n",
    "\n",
    "from alpaca.trading.client import TradingClient\n",
    "from alpaca.trading.requests import GetOrdersRequest\n",
    "from alpaca.trading.enums import OrderSide, QueryOrderStatus\n",
    "\n",
    "api_key='PKCGQ99MC5FQA1P8ZSRE'\n",
    "secret_key=\"rkWLI1F2poiTbuERdzozfOLgVV6mrFKTH27Ugvb1\"\n",
    "# paper=True enables paper trading\n",
    "trading_client = TradingClient(api_key, secret_key, paper=True)\n",
    "\n",
    "\n",
    "account = trading_client.get_account()\n",
    "account"
   ]
  },
  {
   "cell_type": "code",
   "execution_count": null,
   "metadata": {},
   "outputs": [],
   "source": []
  }
 ],
 "metadata": {
  "kernelspec": {
   "display_name": "Python 3",
   "language": "python",
   "name": "python3"
  },
  "language_info": {
   "codemirror_mode": {
    "name": "ipython",
    "version": 3
   },
   "file_extension": ".py",
   "mimetype": "text/x-python",
   "name": "python",
   "nbconvert_exporter": "python",
   "pygments_lexer": "ipython3",
   "version": "3.12.2"
  }
 },
 "nbformat": 4,
 "nbformat_minor": 2
}
